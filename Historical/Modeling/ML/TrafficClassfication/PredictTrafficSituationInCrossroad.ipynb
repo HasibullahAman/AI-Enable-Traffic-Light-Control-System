{
 "cells": [
  {
   "cell_type": "markdown",
   "metadata": {},
   "source": [
    "# <center>Traffic Situation Prediction</center>\n",
    "\n",
    "## Importing the libraries\n",
    "\n",
    "1. Imports the NumPy package and assigns it the alias np. NumPy is a library for numerical computations in Python.\n",
    "\n",
    "2. Imports the pandas package and assigns it the alias pd. pandas is a library for data manipulation and analysis.\n",
    "\n",
    "3. Imports the MinMaxScaler and LabelEncoder classes from the sklearn.preprocessing module. These classes are used for data preprocessing tasks in machine learning.\n",
    "\n",
    "4. Imports the train_test_split function from the sklearn.model_selection module. This function is used to split data into training and testing sets.\n",
    "\n",
    "5.  Imports the DecisionTreeRegressor class from the sklearn.tree module. This class is used to create a decision tree regression model.\n",
    "\n",
    "6. Imports the accuracy_score, precision_score, f1_score, and recall_score functions from the sklearn.metrics module. These functions are used to evaluate the performance of machine learning models.\n",
    "\n",
    "7. Imports the joblib module. joblib is a library used for saving and loading machine learning models."
   ]
  },
  {
   "cell_type": "code",
   "execution_count": 2,
   "metadata": {},
   "outputs": [],
   "source": [
    "import numpy as np\n",
    "import pandas as pd\n",
    "import seaborn as sns\n",
    "from sklearn.preprocessing import MinMaxScaler, LabelEncoder\n",
    "from sklearn.model_selection import train_test_split\n",
    "import matplotlib.pyplot as plt\n",
    "\n",
    "from sklearn.metrics import accuracy_score, precision_score, f1_score, recall_score\n",
    "\n",
    "from sklearn.tree import DecisionTreeRegressor\n",
    "\n",
    "import joblib\n"
   ]
  },
  {
   "cell_type": "markdown",
   "metadata": {},
   "source": [
    "## Importing Dataset\n",
    "\n",
    "This dataset contains traffic data collected from various roads at different times. It includes information about the number of vehicles (cars, bikes, buses, and trucks) passing through specific roads, as well as the overall traffic situation.\n",
    "\n",
    "The dataset consists of the following columns:\n",
    "\n",
    "Time: The time of the recorded traffic data.\n",
    "\n",
    "Date: The date of the recorded traffic data.\n",
    "\n",
    "Day of week: The day of the week when the data was collected.\n",
    "\n",
    "CarRoad1: The number of cars passing through Road 1.\n",
    "\n",
    "CarRoad2: The number of cars passing through Road 2.\n",
    "\n",
    "BikeRoad1: The number of bikes passing through Road 1.\n",
    "\n",
    "BikeRoad2: The number of bikes passing through Road 2.\n",
    "\n",
    "BusRoad1: The number of buses passing through Road 1.\n",
    "\n",
    "BusRoad2: The number of buses passing through Road 2.\n",
    "\n",
    "TruckRoad1: The number of trucks passing through Road 1.\n",
    "\n",
    "TruckRoad2: The number of trucks passing through Road 2.\n",
    "\n",
    "TotalRoad1: The total number of vehicles passing through Road 1.\n",
    "\n",
    "TotalRoad2: The total number of vehicles passing through Road 2.\n",
    "\n",
    "Traffic Situation: The overall traffic situation, categorized as \"BothSideLow\"."
   ]
  },
  {
   "cell_type": "code",
   "execution_count": 3,
   "metadata": {},
   "outputs": [],
   "source": [
    "df = pd.read_csv('total_data.csv')"
   ]
  },
  {
   "cell_type": "code",
   "execution_count": 4,
   "metadata": {},
   "outputs": [
    {
     "data": {
      "text/html": [
       "<div>\n",
       "<style scoped>\n",
       "    .dataframe tbody tr th:only-of-type {\n",
       "        vertical-align: middle;\n",
       "    }\n",
       "\n",
       "    .dataframe tbody tr th {\n",
       "        vertical-align: top;\n",
       "    }\n",
       "\n",
       "    .dataframe thead th {\n",
       "        text-align: right;\n",
       "    }\n",
       "</style>\n",
       "<table border=\"1\" class=\"dataframe\">\n",
       "  <thead>\n",
       "    <tr style=\"text-align: right;\">\n",
       "      <th></th>\n",
       "      <th>Time</th>\n",
       "      <th>Date</th>\n",
       "      <th>Day of week</th>\n",
       "      <th>CarRoad1</th>\n",
       "      <th>CarRoad2</th>\n",
       "      <th>BikeRoad1</th>\n",
       "      <th>BikeRoad2</th>\n",
       "      <th>BusRoad1</th>\n",
       "      <th>BusRoad2</th>\n",
       "      <th>TruckRoad1</th>\n",
       "      <th>TruckRoad2</th>\n",
       "      <th>TotalRoad1</th>\n",
       "      <th>TotalRoad2</th>\n",
       "      <th>Traffic Situation</th>\n",
       "    </tr>\n",
       "  </thead>\n",
       "  <tbody>\n",
       "    <tr>\n",
       "      <th>0</th>\n",
       "      <td>12:00:00 AM</td>\n",
       "      <td>10</td>\n",
       "      <td>Tuesday</td>\n",
       "      <td>52</td>\n",
       "      <td>27</td>\n",
       "      <td>0</td>\n",
       "      <td>2</td>\n",
       "      <td>6</td>\n",
       "      <td>2</td>\n",
       "      <td>17</td>\n",
       "      <td>50</td>\n",
       "      <td>75</td>\n",
       "      <td>81</td>\n",
       "      <td>BothSideLow</td>\n",
       "    </tr>\n",
       "    <tr>\n",
       "      <th>1</th>\n",
       "      <td>12:15:00 AM</td>\n",
       "      <td>10</td>\n",
       "      <td>Tuesday</td>\n",
       "      <td>64</td>\n",
       "      <td>29</td>\n",
       "      <td>1</td>\n",
       "      <td>3</td>\n",
       "      <td>4</td>\n",
       "      <td>2</td>\n",
       "      <td>14</td>\n",
       "      <td>72</td>\n",
       "      <td>83</td>\n",
       "      <td>106</td>\n",
       "      <td>BothSideLow</td>\n",
       "    </tr>\n",
       "    <tr>\n",
       "      <th>2</th>\n",
       "      <td>12:30:00 AM</td>\n",
       "      <td>10</td>\n",
       "      <td>Tuesday</td>\n",
       "      <td>61</td>\n",
       "      <td>17</td>\n",
       "      <td>2</td>\n",
       "      <td>2</td>\n",
       "      <td>5</td>\n",
       "      <td>3</td>\n",
       "      <td>25</td>\n",
       "      <td>64</td>\n",
       "      <td>93</td>\n",
       "      <td>86</td>\n",
       "      <td>BothSideLow</td>\n",
       "    </tr>\n",
       "    <tr>\n",
       "      <th>3</th>\n",
       "      <td>12:45:00 AM</td>\n",
       "      <td>10</td>\n",
       "      <td>Tuesday</td>\n",
       "      <td>75</td>\n",
       "      <td>21</td>\n",
       "      <td>1</td>\n",
       "      <td>2</td>\n",
       "      <td>2</td>\n",
       "      <td>2</td>\n",
       "      <td>33</td>\n",
       "      <td>56</td>\n",
       "      <td>111</td>\n",
       "      <td>81</td>\n",
       "      <td>BothSideLow</td>\n",
       "    </tr>\n",
       "    <tr>\n",
       "      <th>4</th>\n",
       "      <td>1:00:00 AM</td>\n",
       "      <td>10</td>\n",
       "      <td>Tuesday</td>\n",
       "      <td>75</td>\n",
       "      <td>22</td>\n",
       "      <td>8</td>\n",
       "      <td>3</td>\n",
       "      <td>15</td>\n",
       "      <td>3</td>\n",
       "      <td>32</td>\n",
       "      <td>54</td>\n",
       "      <td>130</td>\n",
       "      <td>82</td>\n",
       "      <td>BothSideLow</td>\n",
       "    </tr>\n",
       "  </tbody>\n",
       "</table>\n",
       "</div>"
      ],
      "text/plain": [
       "          Time  Date Day of week  CarRoad1  CarRoad2  BikeRoad1  BikeRoad2  \\\n",
       "0  12:00:00 AM    10     Tuesday        52        27          0          2   \n",
       "1  12:15:00 AM    10     Tuesday        64        29          1          3   \n",
       "2  12:30:00 AM    10     Tuesday        61        17          2          2   \n",
       "3  12:45:00 AM    10     Tuesday        75        21          1          2   \n",
       "4   1:00:00 AM    10     Tuesday        75        22          8          3   \n",
       "\n",
       "   BusRoad1  BusRoad2  TruckRoad1  TruckRoad2  TotalRoad1  TotalRoad2  \\\n",
       "0         6         2          17          50          75          81   \n",
       "1         4         2          14          72          83         106   \n",
       "2         5         3          25          64          93          86   \n",
       "3         2         2          33          56         111          81   \n",
       "4        15         3          32          54         130          82   \n",
       "\n",
       "  Traffic Situation  \n",
       "0       BothSideLow  \n",
       "1       BothSideLow  \n",
       "2       BothSideLow  \n",
       "3       BothSideLow  \n",
       "4       BothSideLow  "
      ]
     },
     "execution_count": 4,
     "metadata": {},
     "output_type": "execute_result"
    }
   ],
   "source": [
    "df.head()"
   ]
  },
  {
   "cell_type": "markdown",
   "metadata": {},
   "source": [
    "### columns"
   ]
  },
  {
   "cell_type": "code",
   "execution_count": 5,
   "metadata": {},
   "outputs": [
    {
     "data": {
      "text/plain": [
       "Index(['Time', 'Date', 'Day of week', 'CarRoad1', 'CarRoad2', 'BikeRoad1',\n",
       "       'BikeRoad2', 'BusRoad1', 'BusRoad2', 'TruckRoad1', 'TruckRoad2',\n",
       "       'TotalRoad1', 'TotalRoad2', 'Traffic Situation'],\n",
       "      dtype='object')"
      ]
     },
     "execution_count": 5,
     "metadata": {},
     "output_type": "execute_result"
    }
   ],
   "source": [
    "df.columns"
   ]
  },
  {
   "cell_type": "markdown",
   "metadata": {},
   "source": [
    "### Creating `Midday` column "
   ]
  },
  {
   "cell_type": "code",
   "execution_count": 6,
   "metadata": {},
   "outputs": [],
   "source": [
    "df['midday'] = ''  \n",
    "\n",
    "for i in range(len(df['Time'])):\n",
    "    \n",
    "    if df['Time'][i][-2:] == 'AM':\n",
    "        df.loc[i, 'midday'] = 'AM'\n",
    "        \n",
    "    elif df['Time'][i][-2:] == 'PM':\n",
    "        df.loc[i, 'midday'] = 'PM'\n",
    "        \n",
    "# removing 'AM' or 'PM' form Time column        \n",
    "df['Time'] = df['Time'].str[:-2]"
   ]
  },
  {
   "cell_type": "markdown",
   "metadata": {},
   "source": [
    "### Changing the Time column from `H:M:S` format to `Second`"
   ]
  },
  {
   "cell_type": "code",
   "execution_count": 7,
   "metadata": {},
   "outputs": [
    {
     "name": "stderr",
     "output_type": "stream",
     "text": [
      "/tmp/ipykernel_3885/863071772.py:1: UserWarning: Could not infer format, so each element will be parsed individually, falling back to `dateutil`. To ensure parsing is consistent and as-expected, please specify a format.\n",
      "  df['Time'] = pd.to_datetime(df['Time']).dt.hour * 3600 + \\\n",
      "/tmp/ipykernel_3885/863071772.py:2: UserWarning: Could not infer format, so each element will be parsed individually, falling back to `dateutil`. To ensure parsing is consistent and as-expected, please specify a format.\n",
      "  pd.to_datetime(df['Time']).dt.minute * 60 + \\\n",
      "/tmp/ipykernel_3885/863071772.py:3: UserWarning: Could not infer format, so each element will be parsed individually, falling back to `dateutil`. To ensure parsing is consistent and as-expected, please specify a format.\n",
      "  pd.to_datetime(df['Time']).dt.second\n"
     ]
    }
   ],
   "source": [
    "df['Time'] = pd.to_datetime(df['Time']).dt.hour * 3600 + \\\n",
    "                     pd.to_datetime(df['Time']).dt.minute * 60 + \\\n",
    "                     pd.to_datetime(df['Time']).dt.second"
   ]
  },
  {
   "cell_type": "code",
   "execution_count": 8,
   "metadata": {},
   "outputs": [
    {
     "data": {
      "text/plain": [
       "Traffic Situation\n",
       "BothSideNormal    898\n",
       "BothSideLow       792\n",
       "BothSideHeavy     254\n",
       "Side1High         238\n",
       "Side1Heavy        236\n",
       "BothSideHigh      226\n",
       "Side2Heavy        128\n",
       "Side2High          95\n",
       "Side1Normal        48\n",
       "Side2Normal        14\n",
       "Name: count, dtype: int64"
      ]
     },
     "execution_count": 8,
     "metadata": {},
     "output_type": "execute_result"
    }
   ],
   "source": [
    "df['Traffic Situation'].value_counts()"
   ]
  },
  {
   "cell_type": "code",
   "execution_count": 9,
   "metadata": {},
   "outputs": [
    {
     "data": {
      "text/html": [
       "<div>\n",
       "<style scoped>\n",
       "    .dataframe tbody tr th:only-of-type {\n",
       "        vertical-align: middle;\n",
       "    }\n",
       "\n",
       "    .dataframe tbody tr th {\n",
       "        vertical-align: top;\n",
       "    }\n",
       "\n",
       "    .dataframe thead th {\n",
       "        text-align: right;\n",
       "    }\n",
       "</style>\n",
       "<table border=\"1\" class=\"dataframe\">\n",
       "  <thead>\n",
       "    <tr style=\"text-align: right;\">\n",
       "      <th></th>\n",
       "      <th>Time</th>\n",
       "      <th>Date</th>\n",
       "      <th>Day of week</th>\n",
       "      <th>CarRoad1</th>\n",
       "      <th>CarRoad2</th>\n",
       "      <th>BikeRoad1</th>\n",
       "      <th>BikeRoad2</th>\n",
       "      <th>BusRoad1</th>\n",
       "      <th>BusRoad2</th>\n",
       "      <th>TruckRoad1</th>\n",
       "      <th>TruckRoad2</th>\n",
       "      <th>TotalRoad1</th>\n",
       "      <th>TotalRoad2</th>\n",
       "      <th>Traffic Situation</th>\n",
       "      <th>midday</th>\n",
       "    </tr>\n",
       "  </thead>\n",
       "  <tbody>\n",
       "    <tr>\n",
       "      <th>0</th>\n",
       "      <td>43200</td>\n",
       "      <td>10</td>\n",
       "      <td>Tuesday</td>\n",
       "      <td>52</td>\n",
       "      <td>27</td>\n",
       "      <td>0</td>\n",
       "      <td>2</td>\n",
       "      <td>6</td>\n",
       "      <td>2</td>\n",
       "      <td>17</td>\n",
       "      <td>50</td>\n",
       "      <td>75</td>\n",
       "      <td>81</td>\n",
       "      <td>BothSideLow</td>\n",
       "      <td>AM</td>\n",
       "    </tr>\n",
       "    <tr>\n",
       "      <th>1</th>\n",
       "      <td>44100</td>\n",
       "      <td>10</td>\n",
       "      <td>Tuesday</td>\n",
       "      <td>64</td>\n",
       "      <td>29</td>\n",
       "      <td>1</td>\n",
       "      <td>3</td>\n",
       "      <td>4</td>\n",
       "      <td>2</td>\n",
       "      <td>14</td>\n",
       "      <td>72</td>\n",
       "      <td>83</td>\n",
       "      <td>106</td>\n",
       "      <td>BothSideLow</td>\n",
       "      <td>AM</td>\n",
       "    </tr>\n",
       "    <tr>\n",
       "      <th>2</th>\n",
       "      <td>45000</td>\n",
       "      <td>10</td>\n",
       "      <td>Tuesday</td>\n",
       "      <td>61</td>\n",
       "      <td>17</td>\n",
       "      <td>2</td>\n",
       "      <td>2</td>\n",
       "      <td>5</td>\n",
       "      <td>3</td>\n",
       "      <td>25</td>\n",
       "      <td>64</td>\n",
       "      <td>93</td>\n",
       "      <td>86</td>\n",
       "      <td>BothSideLow</td>\n",
       "      <td>AM</td>\n",
       "    </tr>\n",
       "    <tr>\n",
       "      <th>3</th>\n",
       "      <td>45900</td>\n",
       "      <td>10</td>\n",
       "      <td>Tuesday</td>\n",
       "      <td>75</td>\n",
       "      <td>21</td>\n",
       "      <td>1</td>\n",
       "      <td>2</td>\n",
       "      <td>2</td>\n",
       "      <td>2</td>\n",
       "      <td>33</td>\n",
       "      <td>56</td>\n",
       "      <td>111</td>\n",
       "      <td>81</td>\n",
       "      <td>BothSideLow</td>\n",
       "      <td>AM</td>\n",
       "    </tr>\n",
       "    <tr>\n",
       "      <th>4</th>\n",
       "      <td>3600</td>\n",
       "      <td>10</td>\n",
       "      <td>Tuesday</td>\n",
       "      <td>75</td>\n",
       "      <td>22</td>\n",
       "      <td>8</td>\n",
       "      <td>3</td>\n",
       "      <td>15</td>\n",
       "      <td>3</td>\n",
       "      <td>32</td>\n",
       "      <td>54</td>\n",
       "      <td>130</td>\n",
       "      <td>82</td>\n",
       "      <td>BothSideLow</td>\n",
       "      <td>AM</td>\n",
       "    </tr>\n",
       "  </tbody>\n",
       "</table>\n",
       "</div>"
      ],
      "text/plain": [
       "    Time  Date Day of week  CarRoad1  CarRoad2  BikeRoad1  BikeRoad2  \\\n",
       "0  43200    10     Tuesday        52        27          0          2   \n",
       "1  44100    10     Tuesday        64        29          1          3   \n",
       "2  45000    10     Tuesday        61        17          2          2   \n",
       "3  45900    10     Tuesday        75        21          1          2   \n",
       "4   3600    10     Tuesday        75        22          8          3   \n",
       "\n",
       "   BusRoad1  BusRoad2  TruckRoad1  TruckRoad2  TotalRoad1  TotalRoad2  \\\n",
       "0         6         2          17          50          75          81   \n",
       "1         4         2          14          72          83         106   \n",
       "2         5         3          25          64          93          86   \n",
       "3         2         2          33          56         111          81   \n",
       "4        15         3          32          54         130          82   \n",
       "\n",
       "  Traffic Situation midday  \n",
       "0       BothSideLow     AM  \n",
       "1       BothSideLow     AM  \n",
       "2       BothSideLow     AM  \n",
       "3       BothSideLow     AM  \n",
       "4       BothSideLow     AM  "
      ]
     },
     "execution_count": 9,
     "metadata": {},
     "output_type": "execute_result"
    }
   ],
   "source": [
    "df.head()"
   ]
  },
  {
   "cell_type": "markdown",
   "metadata": {},
   "source": [
    "## Data Preprocessing"
   ]
  },
  {
   "cell_type": "code",
   "execution_count": 10,
   "metadata": {},
   "outputs": [],
   "source": [
    "# Separate the features and target variable\n",
    "features = df.drop(['Traffic Situation'], axis=1)\n",
    "target = df['Traffic Situation']\n",
    "\n",
    "# Normalize the numeric features using MinMaxScaler\n",
    "numeric_columns = ['Time', 'Date']\n",
    "scaler = MinMaxScaler()\n",
    "features[numeric_columns] = scaler.fit_transform(features[numeric_columns])\n",
    "\n",
    "# Encode the categorical feature 'midday' using LabelEncoder\n",
    "le = LabelEncoder()\n",
    "features['midday'] = le.fit_transform(features['midday'])\n",
    "features['Day of week'] = le.fit_transform(features['Day of week'])\n",
    "\n",
    "# Encode the target variable 'Traffic Situation' using LabelEncoder\n",
    "le_target = LabelEncoder()\n",
    "target = le_target.fit_transform(target)\n",
    "\n",
    "# Concatenate the features and target variable\n",
    "normalized_encoded_data = pd.concat([features, pd.Series(target, name='Traffic Situation')], axis=1)"
   ]
  },
  {
   "cell_type": "code",
   "execution_count": 11,
   "metadata": {},
   "outputs": [],
   "source": [
    "df = normalized_encoded_data\n",
    "traffic_df = df.drop(['CarRoad1', 'CarRoad2', 'BikeRoad1', 'BikeRoad2', 'BusRoad1', 'BusRoad2', 'TruckRoad1', 'TruckRoad2', 'TotalRoad1', 'TotalRoad2'], axis=1)"
   ]
  },
  {
   "cell_type": "code",
   "execution_count": 12,
   "metadata": {},
   "outputs": [
    {
     "data": {
      "text/html": [
       "<div>\n",
       "<style scoped>\n",
       "    .dataframe tbody tr th:only-of-type {\n",
       "        vertical-align: middle;\n",
       "    }\n",
       "\n",
       "    .dataframe tbody tr th {\n",
       "        vertical-align: top;\n",
       "    }\n",
       "\n",
       "    .dataframe thead th {\n",
       "        text-align: right;\n",
       "    }\n",
       "</style>\n",
       "<table border=\"1\" class=\"dataframe\">\n",
       "  <thead>\n",
       "    <tr style=\"text-align: right;\">\n",
       "      <th></th>\n",
       "      <th>Time</th>\n",
       "      <th>Date</th>\n",
       "      <th>Day of week</th>\n",
       "      <th>midday</th>\n",
       "      <th>Traffic Situation</th>\n",
       "    </tr>\n",
       "  </thead>\n",
       "  <tbody>\n",
       "    <tr>\n",
       "      <th>0</th>\n",
       "      <td>0.936170</td>\n",
       "      <td>0.300000</td>\n",
       "      <td>5</td>\n",
       "      <td>0</td>\n",
       "      <td>2</td>\n",
       "    </tr>\n",
       "    <tr>\n",
       "      <th>1</th>\n",
       "      <td>0.957447</td>\n",
       "      <td>0.300000</td>\n",
       "      <td>5</td>\n",
       "      <td>0</td>\n",
       "      <td>2</td>\n",
       "    </tr>\n",
       "    <tr>\n",
       "      <th>2</th>\n",
       "      <td>0.978723</td>\n",
       "      <td>0.300000</td>\n",
       "      <td>5</td>\n",
       "      <td>0</td>\n",
       "      <td>2</td>\n",
       "    </tr>\n",
       "    <tr>\n",
       "      <th>3</th>\n",
       "      <td>1.000000</td>\n",
       "      <td>0.300000</td>\n",
       "      <td>5</td>\n",
       "      <td>0</td>\n",
       "      <td>2</td>\n",
       "    </tr>\n",
       "    <tr>\n",
       "      <th>4</th>\n",
       "      <td>0.000000</td>\n",
       "      <td>0.300000</td>\n",
       "      <td>5</td>\n",
       "      <td>0</td>\n",
       "      <td>2</td>\n",
       "    </tr>\n",
       "    <tr>\n",
       "      <th>...</th>\n",
       "      <td>...</td>\n",
       "      <td>...</td>\n",
       "      <td>...</td>\n",
       "      <td>...</td>\n",
       "      <td>...</td>\n",
       "    </tr>\n",
       "    <tr>\n",
       "      <th>2971</th>\n",
       "      <td>0.829787</td>\n",
       "      <td>0.266667</td>\n",
       "      <td>4</td>\n",
       "      <td>1</td>\n",
       "      <td>2</td>\n",
       "    </tr>\n",
       "    <tr>\n",
       "      <th>2972</th>\n",
       "      <td>0.851064</td>\n",
       "      <td>0.266667</td>\n",
       "      <td>4</td>\n",
       "      <td>1</td>\n",
       "      <td>2</td>\n",
       "    </tr>\n",
       "    <tr>\n",
       "      <th>2973</th>\n",
       "      <td>0.872340</td>\n",
       "      <td>0.266667</td>\n",
       "      <td>4</td>\n",
       "      <td>1</td>\n",
       "      <td>2</td>\n",
       "    </tr>\n",
       "    <tr>\n",
       "      <th>2974</th>\n",
       "      <td>0.893617</td>\n",
       "      <td>0.266667</td>\n",
       "      <td>4</td>\n",
       "      <td>1</td>\n",
       "      <td>2</td>\n",
       "    </tr>\n",
       "    <tr>\n",
       "      <th>2975</th>\n",
       "      <td>0.914894</td>\n",
       "      <td>0.266667</td>\n",
       "      <td>4</td>\n",
       "      <td>1</td>\n",
       "      <td>2</td>\n",
       "    </tr>\n",
       "  </tbody>\n",
       "</table>\n",
       "<p>2976 rows × 5 columns</p>\n",
       "</div>"
      ],
      "text/plain": [
       "          Time      Date  Day of week  midday  Traffic Situation\n",
       "0     0.936170  0.300000            5       0                  2\n",
       "1     0.957447  0.300000            5       0                  2\n",
       "2     0.978723  0.300000            5       0                  2\n",
       "3     1.000000  0.300000            5       0                  2\n",
       "4     0.000000  0.300000            5       0                  2\n",
       "...        ...       ...          ...     ...                ...\n",
       "2971  0.829787  0.266667            4       1                  2\n",
       "2972  0.851064  0.266667            4       1                  2\n",
       "2973  0.872340  0.266667            4       1                  2\n",
       "2974  0.893617  0.266667            4       1                  2\n",
       "2975  0.914894  0.266667            4       1                  2\n",
       "\n",
       "[2976 rows x 5 columns]"
      ]
     },
     "execution_count": 12,
     "metadata": {},
     "output_type": "execute_result"
    }
   ],
   "source": [
    "traffic_df"
   ]
  },
  {
   "cell_type": "markdown",
   "metadata": {},
   "source": [
    "### Data Spliting to Training set and Testing set"
   ]
  },
  {
   "cell_type": "code",
   "execution_count": 13,
   "metadata": {},
   "outputs": [],
   "source": [
    "X = traffic_df.drop(['Traffic Situation'], axis=1)\n",
    "y = traffic_df['Traffic Situation']\n"
   ]
  },
  {
   "cell_type": "code",
   "execution_count": 14,
   "metadata": {},
   "outputs": [
    {
     "data": {
      "text/html": [
       "<div>\n",
       "<style scoped>\n",
       "    .dataframe tbody tr th:only-of-type {\n",
       "        vertical-align: middle;\n",
       "    }\n",
       "\n",
       "    .dataframe tbody tr th {\n",
       "        vertical-align: top;\n",
       "    }\n",
       "\n",
       "    .dataframe thead th {\n",
       "        text-align: right;\n",
       "    }\n",
       "</style>\n",
       "<table border=\"1\" class=\"dataframe\">\n",
       "  <thead>\n",
       "    <tr style=\"text-align: right;\">\n",
       "      <th></th>\n",
       "      <th>Time</th>\n",
       "      <th>Date</th>\n",
       "      <th>Day of week</th>\n",
       "      <th>midday</th>\n",
       "    </tr>\n",
       "  </thead>\n",
       "  <tbody>\n",
       "    <tr>\n",
       "      <th>0</th>\n",
       "      <td>0.936170</td>\n",
       "      <td>0.300000</td>\n",
       "      <td>5</td>\n",
       "      <td>0</td>\n",
       "    </tr>\n",
       "    <tr>\n",
       "      <th>1</th>\n",
       "      <td>0.957447</td>\n",
       "      <td>0.300000</td>\n",
       "      <td>5</td>\n",
       "      <td>0</td>\n",
       "    </tr>\n",
       "    <tr>\n",
       "      <th>2</th>\n",
       "      <td>0.978723</td>\n",
       "      <td>0.300000</td>\n",
       "      <td>5</td>\n",
       "      <td>0</td>\n",
       "    </tr>\n",
       "    <tr>\n",
       "      <th>3</th>\n",
       "      <td>1.000000</td>\n",
       "      <td>0.300000</td>\n",
       "      <td>5</td>\n",
       "      <td>0</td>\n",
       "    </tr>\n",
       "    <tr>\n",
       "      <th>4</th>\n",
       "      <td>0.000000</td>\n",
       "      <td>0.300000</td>\n",
       "      <td>5</td>\n",
       "      <td>0</td>\n",
       "    </tr>\n",
       "    <tr>\n",
       "      <th>...</th>\n",
       "      <td>...</td>\n",
       "      <td>...</td>\n",
       "      <td>...</td>\n",
       "      <td>...</td>\n",
       "    </tr>\n",
       "    <tr>\n",
       "      <th>2971</th>\n",
       "      <td>0.829787</td>\n",
       "      <td>0.266667</td>\n",
       "      <td>4</td>\n",
       "      <td>1</td>\n",
       "    </tr>\n",
       "    <tr>\n",
       "      <th>2972</th>\n",
       "      <td>0.851064</td>\n",
       "      <td>0.266667</td>\n",
       "      <td>4</td>\n",
       "      <td>1</td>\n",
       "    </tr>\n",
       "    <tr>\n",
       "      <th>2973</th>\n",
       "      <td>0.872340</td>\n",
       "      <td>0.266667</td>\n",
       "      <td>4</td>\n",
       "      <td>1</td>\n",
       "    </tr>\n",
       "    <tr>\n",
       "      <th>2974</th>\n",
       "      <td>0.893617</td>\n",
       "      <td>0.266667</td>\n",
       "      <td>4</td>\n",
       "      <td>1</td>\n",
       "    </tr>\n",
       "    <tr>\n",
       "      <th>2975</th>\n",
       "      <td>0.914894</td>\n",
       "      <td>0.266667</td>\n",
       "      <td>4</td>\n",
       "      <td>1</td>\n",
       "    </tr>\n",
       "  </tbody>\n",
       "</table>\n",
       "<p>2976 rows × 4 columns</p>\n",
       "</div>"
      ],
      "text/plain": [
       "          Time      Date  Day of week  midday\n",
       "0     0.936170  0.300000            5       0\n",
       "1     0.957447  0.300000            5       0\n",
       "2     0.978723  0.300000            5       0\n",
       "3     1.000000  0.300000            5       0\n",
       "4     0.000000  0.300000            5       0\n",
       "...        ...       ...          ...     ...\n",
       "2971  0.829787  0.266667            4       1\n",
       "2972  0.851064  0.266667            4       1\n",
       "2973  0.872340  0.266667            4       1\n",
       "2974  0.893617  0.266667            4       1\n",
       "2975  0.914894  0.266667            4       1\n",
       "\n",
       "[2976 rows x 4 columns]"
      ]
     },
     "execution_count": 14,
     "metadata": {},
     "output_type": "execute_result"
    }
   ],
   "source": [
    "X"
   ]
  },
  {
   "cell_type": "code",
   "execution_count": 15,
   "metadata": {},
   "outputs": [
    {
     "data": {
      "text/plain": [
       "0       2\n",
       "1       2\n",
       "2       2\n",
       "3       2\n",
       "4       2\n",
       "       ..\n",
       "2971    2\n",
       "2972    2\n",
       "2973    2\n",
       "2974    2\n",
       "2975    2\n",
       "Name: Traffic Situation, Length: 2976, dtype: int64"
      ]
     },
     "execution_count": 15,
     "metadata": {},
     "output_type": "execute_result"
    }
   ],
   "source": [
    "y"
   ]
  },
  {
   "cell_type": "code",
   "execution_count": 16,
   "metadata": {},
   "outputs": [
    {
     "data": {
      "text/plain": [
       "((2678, 4), (298, 4), (2678,), (298,))"
      ]
     },
     "execution_count": 16,
     "metadata": {},
     "output_type": "execute_result"
    }
   ],
   "source": [
    "X_train, X_test, y_train, y_test = train_test_split(X, y, test_size=.1, random_state=42)\n",
    "\n",
    "X_train.shape, X_test.shape, y_train.shape, y_test.shape"
   ]
  },
  {
   "cell_type": "markdown",
   "metadata": {},
   "source": [
    "## Training Model"
   ]
  },
  {
   "cell_type": "code",
   "execution_count": 17,
   "metadata": {},
   "outputs": [],
   "source": [
    "model = DecisionTreeRegressor().fit(X_train, y_train)"
   ]
  },
  {
   "cell_type": "code",
   "execution_count": 18,
   "metadata": {},
   "outputs": [],
   "source": [
    "y_pred = model.predict(X_test)"
   ]
  },
  {
   "cell_type": "markdown",
   "metadata": {},
   "source": [
    "### Evaluating Model"
   ]
  },
  {
   "cell_type": "code",
   "execution_count": 19,
   "metadata": {},
   "outputs": [
    {
     "name": "stdout",
     "output_type": "stream",
     "text": [
      "Accuracy:  0.587248322147651\n",
      "precision:  0.3239325326090032\n",
      "recall:  0.31916774755265714\n",
      "F1 Score:  0.320499754929666\n"
     ]
    }
   ],
   "source": [
    "print('Accuracy: ', accuracy_score(y_pred, y_test))\n",
    "print('precision: ', precision_score(y_pred, y_test, average='macro'))\n",
    "print('recall: ', recall_score(y_pred, y_test, average='macro'))\n",
    "print('F1 Score: ', f1_score(y_pred, y_test, average='macro'))"
   ]
  },
  {
   "cell_type": "markdown",
   "metadata": {},
   "source": [
    "### Saving Trained Model"
   ]
  },
  {
   "cell_type": "code",
   "execution_count": 20,
   "metadata": {},
   "outputs": [
    {
     "data": {
      "text/plain": [
       "['after15Situation.joblib']"
      ]
     },
     "execution_count": 20,
     "metadata": {},
     "output_type": "execute_result"
    }
   ],
   "source": [
    "joblib.dump(model, 'after15Situation.joblib')"
   ]
  },
  {
   "cell_type": "code",
   "execution_count": null,
   "metadata": {},
   "outputs": [],
   "source": []
  }
 ],
 "metadata": {
  "kernelspec": {
   "display_name": "Python 3",
   "language": "python",
   "name": "python3"
  },
  "language_info": {
   "codemirror_mode": {
    "name": "ipython",
    "version": 3
   },
   "file_extension": ".py",
   "mimetype": "text/x-python",
   "name": "python",
   "nbconvert_exporter": "python",
   "pygments_lexer": "ipython3",
   "version": "3.10.12"
  }
 },
 "nbformat": 4,
 "nbformat_minor": 2
}
