{
 "metadata": {
  "kernelspec": {
   "language": "python",
   "display_name": "Python 3",
   "name": "python3"
  },
  "language_info": {
   "name": "python",
   "version": "3.10.12",
   "mimetype": "text/x-python",
   "codemirror_mode": {
    "name": "ipython",
    "version": 3
   },
   "pygments_lexer": "ipython3",
   "nbconvert_exporter": "python",
   "file_extension": ".py"
  },
  "kaggle": {
   "accelerator": "none",
   "dataSources": [
    {
     "sourceId": 7018003,
     "sourceType": "datasetVersion",
     "datasetId": 4035273
    }
   ],
   "dockerImageVersionId": 30587,
   "isInternetEnabled": true,
   "language": "python",
   "sourceType": "notebook",
   "isGpuEnabled": false
  }
 },
 "nbformat_minor": 4,
 "nbformat": 4,
 "cells": [
  {
   "cell_type": "markdown",
   "source": [
    "# Bring together four Dataset"
   ],
   "metadata": {}
  },
  {
   "cell_type": "code",
   "source": [
    "import numpy as np\n",
    "import pandas as pd"
   ],
   "metadata": {
    "execution": {
     "iopub.status.busy": "2023-11-24T23:31:20.142832Z",
     "iopub.execute_input": "2023-11-24T23:31:20.143315Z",
     "iopub.status.idle": "2023-11-24T23:31:20.148516Z",
     "shell.execute_reply.started": "2023-11-24T23:31:20.143275Z",
     "shell.execute_reply": "2023-11-24T23:31:20.147381Z"
    },
    "trusted": true,
    "is_executing": true
   },
   "execution_count": null,
   "outputs": []
  },
  {
   "cell_type": "markdown",
   "source": [
    "### Read Dataset"
   ],
   "metadata": {}
  },
  {
   "cell_type": "code",
   "source": [
    "df1 = pd.read_csv(\"/kaggle/input/trafficdataset-roadatl-secondpartproject/Traffic-Road1.csv\")\n",
    "df2 = pd.read_csv(\"/kaggle/input/trafficdataset-roadatl-secondpartproject/Traffic-Road2.csv\")\n",
    "df3 = pd.read_csv(\"/kaggle/input/trafficdataset-roadatl-secondpartproject/Traffic-Road3.csv\")\n",
    "df4 = pd.read_csv(\"/kaggle/input/trafficdataset-roadatl-secondpartproject/Traffic-Road4.csv\")"
   ],
   "metadata": {
    "execution": {
     "iopub.status.busy": "2023-11-24T23:31:20.962331Z",
     "iopub.execute_input": "2023-11-24T23:31:20.962699Z",
     "iopub.status.idle": "2023-11-24T23:31:21.010484Z",
     "shell.execute_reply.started": "2023-11-24T23:31:20.962671Z",
     "shell.execute_reply": "2023-11-24T23:31:21.009515Z"
    },
    "trusted": true
   },
   "execution_count": 10,
   "outputs": []
  },
  {
   "cell_type": "code",
   "source": [
    "df1.head()"
   ],
   "metadata": {
    "execution": {
     "iopub.status.busy": "2023-11-24T23:31:21.401840Z",
     "iopub.execute_input": "2023-11-24T23:31:21.402302Z",
     "iopub.status.idle": "2023-11-24T23:31:21.416657Z",
     "shell.execute_reply.started": "2023-11-24T23:31:21.402269Z",
     "shell.execute_reply": "2023-11-24T23:31:21.415487Z"
    },
    "trusted": true
   },
   "execution_count": 11,
   "outputs": [
    {
     "execution_count": 11,
     "output_type": "execute_result",
     "data": {
      "text/plain": "          Time  Date Day of the week  CarCount  BikeCount  BusCount  \\\n0  12:00:00 AM    10         Tuesday        31          0         4   \n1  12:15:00 AM    10         Tuesday        49          0         3   \n2  12:30:00 AM    10         Tuesday        46          0         3   \n3  12:45:00 AM    10         Tuesday        51          0         2   \n4   1:00:00 AM    10         Tuesday        57          6        15   \n\n   TruckCount  Total Traffic Situation  \n0           4     39               low  \n1           3     55               low  \n2           6     55               low  \n3           5     58               low  \n4          16     94            normal  ",
      "text/html": "<div>\n<style scoped>\n    .dataframe tbody tr th:only-of-type {\n        vertical-align: middle;\n    }\n\n    .dataframe tbody tr th {\n        vertical-align: top;\n    }\n\n    .dataframe thead th {\n        text-align: right;\n    }\n</style>\n<table border=\"1\" class=\"dataframe\">\n  <thead>\n    <tr style=\"text-align: right;\">\n      <th></th>\n      <th>Time</th>\n      <th>Date</th>\n      <th>Day of the week</th>\n      <th>CarCount</th>\n      <th>BikeCount</th>\n      <th>BusCount</th>\n      <th>TruckCount</th>\n      <th>Total</th>\n      <th>Traffic Situation</th>\n    </tr>\n  </thead>\n  <tbody>\n    <tr>\n      <th>0</th>\n      <td>12:00:00 AM</td>\n      <td>10</td>\n      <td>Tuesday</td>\n      <td>31</td>\n      <td>0</td>\n      <td>4</td>\n      <td>4</td>\n      <td>39</td>\n      <td>low</td>\n    </tr>\n    <tr>\n      <th>1</th>\n      <td>12:15:00 AM</td>\n      <td>10</td>\n      <td>Tuesday</td>\n      <td>49</td>\n      <td>0</td>\n      <td>3</td>\n      <td>3</td>\n      <td>55</td>\n      <td>low</td>\n    </tr>\n    <tr>\n      <th>2</th>\n      <td>12:30:00 AM</td>\n      <td>10</td>\n      <td>Tuesday</td>\n      <td>46</td>\n      <td>0</td>\n      <td>3</td>\n      <td>6</td>\n      <td>55</td>\n      <td>low</td>\n    </tr>\n    <tr>\n      <th>3</th>\n      <td>12:45:00 AM</td>\n      <td>10</td>\n      <td>Tuesday</td>\n      <td>51</td>\n      <td>0</td>\n      <td>2</td>\n      <td>5</td>\n      <td>58</td>\n      <td>low</td>\n    </tr>\n    <tr>\n      <th>4</th>\n      <td>1:00:00 AM</td>\n      <td>10</td>\n      <td>Tuesday</td>\n      <td>57</td>\n      <td>6</td>\n      <td>15</td>\n      <td>16</td>\n      <td>94</td>\n      <td>normal</td>\n    </tr>\n  </tbody>\n</table>\n</div>"
     },
     "metadata": {}
    }
   ]
  },
  {
   "cell_type": "code",
   "source": [
    "df2.head()"
   ],
   "metadata": {
    "execution": {
     "iopub.status.busy": "2023-11-24T23:31:21.841689Z",
     "iopub.execute_input": "2023-11-24T23:31:21.842491Z",
     "iopub.status.idle": "2023-11-24T23:31:21.858860Z",
     "shell.execute_reply.started": "2023-11-24T23:31:21.842453Z",
     "shell.execute_reply": "2023-11-24T23:31:21.857808Z"
    },
    "trusted": true
   },
   "execution_count": 12,
   "outputs": [
    {
     "execution_count": 12,
     "output_type": "execute_result",
     "data": {
      "text/plain": "          Time  Date Day of the week  CarCount  BikeCount  BusCount  \\\n0  12:00:00 AM    10         Tuesday        13          2         2   \n1  12:15:00 AM    10         Tuesday        14          1         1   \n2  12:30:00 AM    10         Tuesday        10          2         2   \n3  12:45:00 AM    10         Tuesday        10          2         2   \n4   1:00:00 AM    10         Tuesday        11          2         1   \n\n   TruckCount  Total  \n0          24    NaN  \n1          36    NaN  \n2          32    NaN  \n3          36    NaN  \n4          34    NaN  ",
      "text/html": "<div>\n<style scoped>\n    .dataframe tbody tr th:only-of-type {\n        vertical-align: middle;\n    }\n\n    .dataframe tbody tr th {\n        vertical-align: top;\n    }\n\n    .dataframe thead th {\n        text-align: right;\n    }\n</style>\n<table border=\"1\" class=\"dataframe\">\n  <thead>\n    <tr style=\"text-align: right;\">\n      <th></th>\n      <th>Time</th>\n      <th>Date</th>\n      <th>Day of the week</th>\n      <th>CarCount</th>\n      <th>BikeCount</th>\n      <th>BusCount</th>\n      <th>TruckCount</th>\n      <th>Total</th>\n    </tr>\n  </thead>\n  <tbody>\n    <tr>\n      <th>0</th>\n      <td>12:00:00 AM</td>\n      <td>10</td>\n      <td>Tuesday</td>\n      <td>13</td>\n      <td>2</td>\n      <td>2</td>\n      <td>24</td>\n      <td>NaN</td>\n    </tr>\n    <tr>\n      <th>1</th>\n      <td>12:15:00 AM</td>\n      <td>10</td>\n      <td>Tuesday</td>\n      <td>14</td>\n      <td>1</td>\n      <td>1</td>\n      <td>36</td>\n      <td>NaN</td>\n    </tr>\n    <tr>\n      <th>2</th>\n      <td>12:30:00 AM</td>\n      <td>10</td>\n      <td>Tuesday</td>\n      <td>10</td>\n      <td>2</td>\n      <td>2</td>\n      <td>32</td>\n      <td>NaN</td>\n    </tr>\n    <tr>\n      <th>3</th>\n      <td>12:45:00 AM</td>\n      <td>10</td>\n      <td>Tuesday</td>\n      <td>10</td>\n      <td>2</td>\n      <td>2</td>\n      <td>36</td>\n      <td>NaN</td>\n    </tr>\n    <tr>\n      <th>4</th>\n      <td>1:00:00 AM</td>\n      <td>10</td>\n      <td>Tuesday</td>\n      <td>11</td>\n      <td>2</td>\n      <td>1</td>\n      <td>34</td>\n      <td>NaN</td>\n    </tr>\n  </tbody>\n</table>\n</div>"
     },
     "metadata": {}
    }
   ]
  },
  {
   "cell_type": "code",
   "source": [
    "for i in range(len(df2['Total'])):\n",
    "    df2['Total'] = df2['CarCount'] + df2['BikeCount'] + df2['BusCount'] + df2['TruckCount']\n",
    "    df3['Total'] = df3['CarCount'] + df3['BikeCount'] + df3['BusCount'] + df3['TruckCount']\n",
    "    df4['Total'] = df4['CarCount'] + df4['BikeCount'] + df4['BusCount'] + df4['TruckCount']"
   ],
   "metadata": {
    "execution": {
     "iopub.status.busy": "2023-11-24T23:31:22.151888Z",
     "iopub.execute_input": "2023-11-24T23:31:22.153126Z",
     "iopub.status.idle": "2023-11-24T23:31:27.701870Z",
     "shell.execute_reply.started": "2023-11-24T23:31:22.153086Z",
     "shell.execute_reply": "2023-11-24T23:31:27.700986Z"
    },
    "trusted": true
   },
   "execution_count": 13,
   "outputs": []
  },
  {
   "cell_type": "code",
   "source": [
    "dftotal = pd.DataFrame(columns=['Time', 'Date', 'Day of week','CarRoad1','CarRoad2','BikeRoad1','BikeRoad2','BusRoad1','BusRoad2','TruckRoad1','TruckRoad2','TotalRoad1','TotalRoad2'])\n",
    "for i in range(len(df1['Total'])):\n",
    "    dftotal['Time'] = df1['Time'] \n",
    "    dftotal['Date'] = df1['Date']\n",
    "    dftotal['Day of week'] = df1['Day of the week']\n",
    "    dftotal['CarRoad1'] = df1['CarCount'] + df3['CarCount']\n",
    "    dftotal['BikeRoad1'] = df1['BikeCount'] + df3['BikeCount']\n",
    "    dftotal['TruckRoad1'] = df1['TruckCount'] + df3['TruckCount']\n",
    "    dftotal['BusRoad1'] = df1['BusCount'] + df3['BusCount']\n",
    "    dftotal['TotalRoad1'] = df1['Total'] + df3 ['Total']\n",
    "    # ------------------------------------\n",
    "    dftotal['CarRoad2'] = df2['CarCount'] + df4['CarCount']\n",
    "    dftotal['BikeRoad2'] = df2['BikeCount'] + df4['BikeCount']\n",
    "    dftotal['TruckRoad2'] = df2['TruckCount'] + df4['TruckCount']\n",
    "    dftotal['BusRoad2'] = df2['BusCount'] + df4['BusCount']\n",
    "    dftotal['TotalRoad2'] = df2['Total'] + df4 ['Total']    "
   ],
   "metadata": {
    "execution": {
     "iopub.status.busy": "2023-11-24T23:31:27.703696Z",
     "iopub.execute_input": "2023-11-24T23:31:27.704979Z",
     "iopub.status.idle": "2023-11-24T23:31:35.341853Z",
     "shell.execute_reply.started": "2023-11-24T23:31:27.704947Z",
     "shell.execute_reply": "2023-11-24T23:31:35.340930Z"
    },
    "trusted": true
   },
   "execution_count": 14,
   "outputs": []
  },
  {
   "cell_type": "code",
   "source": [
    "dftotal.head()"
   ],
   "metadata": {
    "execution": {
     "iopub.status.busy": "2023-11-24T23:31:35.344021Z",
     "iopub.execute_input": "2023-11-24T23:31:35.344869Z",
     "iopub.status.idle": "2023-11-24T23:31:35.362429Z",
     "shell.execute_reply.started": "2023-11-24T23:31:35.344828Z",
     "shell.execute_reply": "2023-11-24T23:31:35.361006Z"
    },
    "trusted": true
   },
   "execution_count": 15,
   "outputs": [
    {
     "execution_count": 15,
     "output_type": "execute_result",
     "data": {
      "text/plain": "          Time  Date Day of week  CarRoad1  CarRoad2  BikeRoad1  BikeRoad2  \\\n0  12:00:00 AM    10     Tuesday        52        27          0          2   \n1  12:15:00 AM    10     Tuesday        64        29          1          3   \n2  12:30:00 AM    10     Tuesday        61        17          2          2   \n3  12:45:00 AM    10     Tuesday        75        21          1          2   \n4   1:00:00 AM    10     Tuesday        75        22          8          3   \n\n   BusRoad1  BusRoad2  TruckRoad1  TruckRoad2  TotalRoad1  TotalRoad2  \n0         6         2          17          50          75          81  \n1         4         2          14          72          83         106  \n2         5         3          25          64          93          86  \n3         2         2          33          56         111          81  \n4        15         3          32          54         130          82  ",
      "text/html": "<div>\n<style scoped>\n    .dataframe tbody tr th:only-of-type {\n        vertical-align: middle;\n    }\n\n    .dataframe tbody tr th {\n        vertical-align: top;\n    }\n\n    .dataframe thead th {\n        text-align: right;\n    }\n</style>\n<table border=\"1\" class=\"dataframe\">\n  <thead>\n    <tr style=\"text-align: right;\">\n      <th></th>\n      <th>Time</th>\n      <th>Date</th>\n      <th>Day of week</th>\n      <th>CarRoad1</th>\n      <th>CarRoad2</th>\n      <th>BikeRoad1</th>\n      <th>BikeRoad2</th>\n      <th>BusRoad1</th>\n      <th>BusRoad2</th>\n      <th>TruckRoad1</th>\n      <th>TruckRoad2</th>\n      <th>TotalRoad1</th>\n      <th>TotalRoad2</th>\n    </tr>\n  </thead>\n  <tbody>\n    <tr>\n      <th>0</th>\n      <td>12:00:00 AM</td>\n      <td>10</td>\n      <td>Tuesday</td>\n      <td>52</td>\n      <td>27</td>\n      <td>0</td>\n      <td>2</td>\n      <td>6</td>\n      <td>2</td>\n      <td>17</td>\n      <td>50</td>\n      <td>75</td>\n      <td>81</td>\n    </tr>\n    <tr>\n      <th>1</th>\n      <td>12:15:00 AM</td>\n      <td>10</td>\n      <td>Tuesday</td>\n      <td>64</td>\n      <td>29</td>\n      <td>1</td>\n      <td>3</td>\n      <td>4</td>\n      <td>2</td>\n      <td>14</td>\n      <td>72</td>\n      <td>83</td>\n      <td>106</td>\n    </tr>\n    <tr>\n      <th>2</th>\n      <td>12:30:00 AM</td>\n      <td>10</td>\n      <td>Tuesday</td>\n      <td>61</td>\n      <td>17</td>\n      <td>2</td>\n      <td>2</td>\n      <td>5</td>\n      <td>3</td>\n      <td>25</td>\n      <td>64</td>\n      <td>93</td>\n      <td>86</td>\n    </tr>\n    <tr>\n      <th>3</th>\n      <td>12:45:00 AM</td>\n      <td>10</td>\n      <td>Tuesday</td>\n      <td>75</td>\n      <td>21</td>\n      <td>1</td>\n      <td>2</td>\n      <td>2</td>\n      <td>2</td>\n      <td>33</td>\n      <td>56</td>\n      <td>111</td>\n      <td>81</td>\n    </tr>\n    <tr>\n      <th>4</th>\n      <td>1:00:00 AM</td>\n      <td>10</td>\n      <td>Tuesday</td>\n      <td>75</td>\n      <td>22</td>\n      <td>8</td>\n      <td>3</td>\n      <td>15</td>\n      <td>3</td>\n      <td>32</td>\n      <td>54</td>\n      <td>130</td>\n      <td>82</td>\n    </tr>\n  </tbody>\n</table>\n</div>"
     },
     "metadata": {}
    }
   ]
  },
  {
   "cell_type": "code",
   "source": [
    "dftotal.to_csv('/kaggle/working/total_data.csv', index=False)"
   ],
   "metadata": {
    "execution": {
     "iopub.status.busy": "2023-11-24T23:31:35.364729Z",
     "iopub.execute_input": "2023-11-24T23:31:35.365060Z",
     "iopub.status.idle": "2023-11-24T23:31:35.391853Z",
     "shell.execute_reply.started": "2023-11-24T23:31:35.365030Z",
     "shell.execute_reply": "2023-11-24T23:31:35.390741Z"
    },
    "trusted": true
   },
   "execution_count": 16,
   "outputs": []
  }
 ]
}
